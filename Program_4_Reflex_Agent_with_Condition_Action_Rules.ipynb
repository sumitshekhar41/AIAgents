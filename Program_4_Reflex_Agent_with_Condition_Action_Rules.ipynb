{
  "nbformat": 4,
  "nbformat_minor": 0,
  "metadata": {
    "colab": {
      "provenance": [],
      "include_colab_link": true
    },
    "kernelspec": {
      "name": "python3",
      "display_name": "Python 3"
    },
    "language_info": {
      "name": "python"
    }
  },
  "cells": [
    {
      "cell_type": "markdown",
      "metadata": {
        "id": "view-in-github",
        "colab_type": "text"
      },
      "source": [
        "<a href=\"https://colab.research.google.com/github/sumitshekhar41/AIAgents/blob/main/Program_4_Reflex_Agent_with_Condition_Action_Rules.ipynb\" target=\"_parent\"><img src=\"https://colab.research.google.com/assets/colab-badge.svg\" alt=\"Open In Colab\"/></a>"
      ]
    },
    {
      "cell_type": "markdown",
      "source": [
        "#### **Explanation:**\n",
        "\n",
        "* Uses hard-coded rules for input-output mapping.\n",
        "* Mimics a basic chatbot with limited understanding.\n",
        "* Foundation for more intelligent agents with symbolic reasoning."
      ],
      "metadata": {
        "id": "m4nHJ-X8Iiw3"
      }
    },
    {
      "cell_type": "code",
      "execution_count": null,
      "metadata": {
        "id": "VhcbPg8oIb-I"
      },
      "outputs": [],
      "source": [
        "# Define condition-action rules in a dictionary\n",
        "rules = {\n",
        "    \"hello\": \"Hi there! How can I help?\",\n",
        "    \"bye\": \"Goodbye! Have a great day.\",\n",
        "    \"help\": \"I can respond to hello, bye, or help.\",\n",
        "    \"thanks\": \"You're welcome!\"\n",
        "}\n",
        "\n",
        "# Reflex agent function\n",
        "def reflex_agent(user_input):\n",
        "    user_input = user_input.lower()\n",
        "\n",
        "    if user_input in rules:\n",
        "        return rules[user_input]\n",
        "    else:\n",
        "        return \"I don't understand that. Try saying 'hello', 'bye', or 'help'.\"\n",
        "\n",
        "# Interaction loop\n",
        "print(\"Reflex Agent Ready. Type 'hello', 'help', 'thanks', or 'bye'. Type 'exit' to stop.\")\n",
        "\n",
        "while True:\n",
        "    user_input = input(\"You: \")\n",
        "    if user_input.lower() == \"exit\":\n",
        "        print(\"Agent: Exiting. Bye!\")\n",
        "        break\n",
        "    print(\"Agent:\", reflex_agent(user_input))"
      ]
    }
  ]
}