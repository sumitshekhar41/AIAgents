{
  "nbformat": 4,
  "nbformat_minor": 0,
  "metadata": {
    "colab": {
      "provenance": [],
      "include_colab_link": true
    },
    "kernelspec": {
      "name": "python3",
      "display_name": "Python 3"
    },
    "language_info": {
      "name": "python"
    }
  },
  "cells": [
    {
      "cell_type": "markdown",
      "metadata": {
        "id": "view-in-github",
        "colab_type": "text"
      },
      "source": [
        "<a href=\"https://colab.research.google.com/github/sumitshekhar41/AIAgents/blob/main/Program_15_ReAct_Agent_Pattern_(Reason_%2B_Act_Loop).ipynb\" target=\"_parent\"><img src=\"https://colab.research.google.com/assets/colab-badge.svg\" alt=\"Open In Colab\"/></a>"
      ]
    },
    {
      "cell_type": "markdown",
      "source": [
        "#### **Explanation:**\n",
        "* Explains modular separation of planning and execution\n",
        "* Introduces to reasoning traces in agent chains\n",
        "* Foundation for advanced chains like ReAct + Tool Use + Memory"
      ],
      "metadata": {
        "id": "EkVnPY-1Q5K3"
      }
    },
    {
      "cell_type": "code",
      "execution_count": null,
      "metadata": {
        "id": "tHdQG6qjQjoC"
      },
      "outputs": [],
      "source": [
        "# Reasoning step\n",
        "def react_reason(user_input):\n",
        "    if any(op in user_input for op in ['+', '-', '*', '/']):\n",
        "        return \"This looks like a math problem. I will calculate it.\"\n",
        "    elif \"define\" in user_input.lower():\n",
        "        return \"This seems like a definition request. I’ll explain it.\"\n",
        "    else:\n",
        "        return \"I'm not sure. I'll try to respond generally.\"\n",
        "\n",
        "# Acting step\n",
        "def react_act(reasoning, user_input):\n",
        "    if \"math problem\" in reasoning:\n",
        "        try:\n",
        "            return f\"Result: {eval(user_input)}\"\n",
        "        except:\n",
        "            return \"Sorry, I couldn’t compute that.\"\n",
        "    elif \"definition\" in reasoning:\n",
        "        return f\"Definition (simulated): {user_input.replace('define', '').strip()} is something interesting.\"\n",
        "    else:\n",
        "        return \"I'm just responding as a general assistant.\"\n",
        "\n",
        "# ReAct Agent\n",
        "print(\"ReAct Agent - Try math or definition questions. Type 'exit' to stop.\")\n",
        "\n",
        "while True:\n",
        "    user_input = input(\"You: \")\n",
        "    if user_input.lower() == \"exit\":\n",
        "        print(\"Agent: See you later!\")\n",
        "        break\n",
        "    reason = react_reason(user_input)\n",
        "    print(\"Agent (thinking):\", reason)\n",
        "    action = react_act(reason, user_input)\n",
        "    print(\"Agent (response):\", action)"
      ]
    }
  ]
}