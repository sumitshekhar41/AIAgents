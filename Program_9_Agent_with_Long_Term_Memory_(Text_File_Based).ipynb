{
  "nbformat": 4,
  "nbformat_minor": 0,
  "metadata": {
    "colab": {
      "provenance": [],
      "include_colab_link": true
    },
    "kernelspec": {
      "name": "python3",
      "display_name": "Python 3"
    },
    "language_info": {
      "name": "python"
    }
  },
  "cells": [
    {
      "cell_type": "markdown",
      "metadata": {
        "id": "view-in-github",
        "colab_type": "text"
      },
      "source": [
        "<a href=\"https://colab.research.google.com/github/sumitshekhar41/AIAgents/blob/main/Program_9_Agent_with_Long_Term_Memory_(Text_File_Based).ipynb\" target=\"_parent\"><img src=\"https://colab.research.google.com/assets/colab-badge.svg\" alt=\"Open In Colab\"/></a>"
      ]
    },
    {
      "cell_type": "markdown",
      "source": [
        "#### **Explanation:**\n",
        "* Learn how to design a simple AI agent with persistent long-term memory using basic Python file I/O.\n",
        "* Understand how to store user input across sessions by writing to a local .txt file.\n",
        "* Learn to recall and display past memories through dynamic reading of file contents.\n",
        "* Gain insight into exception handling, specifically how to manage file-not-found scenarios gracefully.\n",
        "* Practice building an interactive console agent loop that interprets commands like \"recall\" and \"exit\" in real-time.\n",
        "* Reinforce the use of string operations and control flow to differentiate between memory-related and generic user inputs.\n",
        "* Build intuition for memory lifecycle: how an agent can accumulate knowledge over time using simple append strategies.\n",
        "* Develop modular thinking by separating concerns into dedicated functions: one for memory writing and one for reading.\n",
        "* Lay the foundation for scaling to more advanced memory formats like JSON, vector stores, or database-backed memory."
      ],
      "metadata": {
        "id": "1AR1yuv-EMNW"
      }
    },
    {
      "cell_type": "code",
      "execution_count": null,
      "metadata": {
        "id": "wDMA553NYJg2"
      },
      "outputs": [],
      "source": [
        "# Long-Term Memory Agent using text file storage\n",
        "MEMORY_FILE = \"agent_memory.txt\"\n",
        "\n",
        "# Function to store user input\n",
        "def remember_input(user_input):\n",
        "    with open(MEMORY_FILE, \"a\") as file:\n",
        "        file.write(user_input + \"\\n\")\n",
        "    return \"I’ve saved that to memory.\"\n",
        "\n",
        "# Function to recall past memory\n",
        "def recall_memory():\n",
        "    try:\n",
        "        with open(MEMORY_FILE, \"r\") as file:\n",
        "            lines = file.readlines()\n",
        "        if not lines:\n",
        "            return \"Memory is empty.\"\n",
        "        return \"Here's what I remember:\\n\" + \"\".join(lines)\n",
        "    except FileNotFoundError:\n",
        "        return \"Memory file not found. I have no memories yet.\"\n",
        "\n",
        "# Interaction loop\n",
        "print(\"Long-Term Memory Agent\")\n",
        "print(\"Type something to store it. Say 'recall' to view memory. 'exit' to stop.\")\n",
        "\n",
        "while True:\n",
        "    user_input = input(\"You: \")\n",
        "    if user_input.lower() == \"exit\":\n",
        "        print(\"Agent: Goodbye. Memory saved.\")\n",
        "        break\n",
        "    elif user_input.lower() == \"recall\":\n",
        "        print(\"Agent:\", recall_memory())\n",
        "    else:\n",
        "        print(\"Agent:\", remember_input(user_input))"
      ]
    }
  ]
}