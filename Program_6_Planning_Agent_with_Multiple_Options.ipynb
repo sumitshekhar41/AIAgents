{
  "nbformat": 4,
  "nbformat_minor": 0,
  "metadata": {
    "colab": {
      "provenance": [],
      "include_colab_link": true
    },
    "kernelspec": {
      "name": "python3",
      "display_name": "Python 3"
    },
    "language_info": {
      "name": "python"
    }
  },
  "cells": [
    {
      "cell_type": "markdown",
      "metadata": {
        "id": "view-in-github",
        "colab_type": "text"
      },
      "source": [
        "<a href=\"https://colab.research.google.com/github/sumitshekhar41/AIAgents/blob/main/Program_6_Planning_Agent_with_Multiple_Options.ipynb\" target=\"_parent\"><img src=\"https://colab.research.google.com/assets/colab-badge.svg\" alt=\"Open In Colab\"/></a>"
      ]
    },
    {
      "cell_type": "markdown",
      "source": [
        "#### **Explanation:**\n",
        "\n",
        "* Introduces **basic utility-based selection**\n",
        "* Shows how agents can **rank actions** by usefulness\n",
        "* Builds the foundation for **utility agents** and **multi-step planning**"
      ],
      "metadata": {
        "id": "rH4DJSqVKjRp"
      }
    },
    {
      "cell_type": "code",
      "execution_count": 2,
      "metadata": {
        "colab": {
          "base_uri": "https://localhost:8080/"
        },
        "id": "fORNvR73Khvj",
        "outputId": "806015d2-cd4d-4e91-e8e3-014053565023"
      },
      "outputs": [
        {
          "output_type": "stream",
          "name": "stdout",
          "text": [
            "Planning Agent: Helping you plan smartly!\n",
            "To 'pass the exam', the best plan is: 'study consistently' with score 9.\n"
          ]
        }
      ],
      "source": [
        "# Define a goal and multiple plans to achieve it\n",
        "goal = \"pass the exam\"\n",
        "\n",
        "plans = {\n",
        "    \"watch movies\": 1,\n",
        "    \"study consistently\": 9,\n",
        "    \"cram night before\": 4,\n",
        "    \"skip classes\": 2,\n",
        "    \"revise weekly\": 8\n",
        "}\n",
        "\n",
        "# Agent function to select the best plan\n",
        "def planning_agent(goal, plans):\n",
        "    best_action = max(plans, key=plans.get)\n",
        "    return f\"To '{goal}', the best plan is: '{best_action}' with score {plans[best_action]}.\"\n",
        "\n",
        "# Run it\n",
        "print(\"Planning Agent: Helping you plan smartly!\")\n",
        "print(planning_agent(goal, plans))"
      ]
    }
  ]
}