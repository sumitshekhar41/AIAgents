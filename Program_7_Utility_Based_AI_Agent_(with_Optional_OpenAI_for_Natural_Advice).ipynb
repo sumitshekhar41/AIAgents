{
  "nbformat": 4,
  "nbformat_minor": 0,
  "metadata": {
    "colab": {
      "provenance": [],
      "include_colab_link": true
    },
    "kernelspec": {
      "name": "python3",
      "display_name": "Python 3"
    },
    "language_info": {
      "name": "python"
    }
  },
  "cells": [
    {
      "cell_type": "markdown",
      "metadata": {
        "id": "view-in-github",
        "colab_type": "text"
      },
      "source": [
        "<a href=\"https://colab.research.google.com/github/sumitshekhar41/AIAgents/blob/main/Program_7_Utility_Based_AI_Agent_(with_Optional_OpenAI_for_Natural_Advice).ipynb\" target=\"_parent\"><img src=\"https://colab.research.google.com/assets/colab-badge.svg\" alt=\"Open In Colab\"/></a>"
      ]
    },
    {
      "cell_type": "markdown",
      "source": [
        "####**Explanation:**\n",
        "\n",
        "* Teaches students how to **assign value** to actions\n",
        "* Shows **rational choice making**\n",
        "\n"
      ],
      "metadata": {
        "id": "O1lbwz3Q9rmY"
      }
    },
    {
      "cell_type": "code",
      "source": [
        "# === Mount Google Drive to access API key ===\n",
        "from google.colab import drive\n",
        "drive_path = '/content/drive'\n",
        "drive.mount(drive_path)"
      ],
      "metadata": {
        "id": "SfAA9E9h_-5s",
        "colab": {
          "base_uri": "https://localhost:8080/"
        },
        "outputId": "6b963bd1-fced-46eb-8b87-dd3d8d83fd97"
      },
      "execution_count": 1,
      "outputs": [
        {
          "output_type": "stream",
          "name": "stdout",
          "text": [
            "Mounted at /content/drive\n"
          ]
        }
      ]
    },
    {
      "cell_type": "code",
      "source": [
        "import json\n",
        "\n",
        "secret_file_path = \"/content/drive/My Drive/Secret_Keys/OpenAI_Secret_Key.json\"\n",
        "\n",
        "with open(secret_file_path, \"r\") as f:\n",
        "    data = json.load(f)\n",
        "\n",
        "secret_Key = data[\"openai_api_key\"]"
      ],
      "metadata": {
        "id": "pdHFmZ0WVwI6"
      },
      "execution_count": 2,
      "outputs": []
    },
    {
      "cell_type": "code",
      "execution_count": null,
      "metadata": {
        "id": "jZatBzw89qz-"
      },
      "outputs": [],
      "source": [
        "# Step 1: Get game state input from user\n",
        "def get_game_state():\n",
        "    print(\"Enter current game state values (0–100):\\n\")\n",
        "\n",
        "    while True:\n",
        "        try:\n",
        "            health = float(input(\"Player Health (0–100): \"))\n",
        "            enemy_distance = float(input(\"Enemy Distance (0–100): \"))\n",
        "            resources = float(input(\"Available Resources (0–100): \"))\n",
        "\n",
        "            if all(0 <= val <= 100 for val in [health, enemy_distance, resources]):\n",
        "                return health, enemy_distance, resources\n",
        "            else:\n",
        "                print(\"All values must be between 0 and 100.\")\n",
        "        except ValueError:\n",
        "            print(\"Please enter valid numeric inputs.\")\n",
        "\n",
        "# Step 2: Compute utility for each possible action\n",
        "def compute_utilities(health, enemy_distance, resources):\n",
        "    utilities = {}\n",
        "\n",
        "    # Attack: High utility if health is good, enemy is close, and resources are available\n",
        "    utilities[\"attack\"] = (\n",
        "        0.4 * (100 - enemy_distance) +\n",
        "        0.3 * health +\n",
        "        0.3 * resources\n",
        "    )\n",
        "\n",
        "    # Defend: Higher utility when health is moderate and enemy is close\n",
        "    utilities[\"defend\"] = (\n",
        "        0.4 * (100 - health) +\n",
        "        0.4 * (100 - enemy_distance) +\n",
        "        0.2 * resources\n",
        "    )\n",
        "\n",
        "    # Retreat: Higher utility when health is low and enemy is close\n",
        "    utilities[\"retreat\"] = (\n",
        "        0.5 * (100 - health) +\n",
        "        0.4 * (100 - enemy_distance) +\n",
        "        0.1 * (100 - resources)\n",
        "    )\n",
        "\n",
        "    return utilities\n",
        "\n",
        "# Step 3: Pick the best action\n",
        "def select_best_action(utilities):\n",
        "    print(\"\\nComputed Utility Scores:\")\n",
        "    for action, score in utilities.items():\n",
        "        print(f\"{action.ljust(10)} -> {score:.2f}\")\n",
        "\n",
        "    best = max(utilities, key=utilities.get)\n",
        "    print(f\"\\nSelected Action: {best}\")\n",
        "    return best\n",
        "\n",
        "# Step 4: Ask GPT-4o-mini to explain the selected action\n",
        "def explain_action_with_openai(action, health, enemy_distance, resources):\n",
        "    from openai import OpenAI\n",
        "    client = OpenAI(api_key=secret_Key)  # Replace with your key\n",
        "\n",
        "    prompt = (\n",
        "        f\"As a game AI, I chose to '{action}' based on the following:\\n\"\n",
        "        f\"- Player health: {health}\\n\"\n",
        "        f\"- Enemy distance: {enemy_distance}\\n\"\n",
        "        f\"- Available resources: {resources}\\n\"\n",
        "        f\"\\nExplain why this was the best decision.\"\n",
        "    )\n",
        "\n",
        "    response = client.chat.completions.create(\n",
        "        model=\"gpt-4o-mini\",\n",
        "        messages=[\n",
        "            {\"role\": \"system\", \"content\": \"You are a game AI coach that explains decisions clearly.\"},\n",
        "            {\"role\": \"user\", \"content\": prompt}\n",
        "        ]\n",
        "    )\n",
        "    return response.choices[0].message.content.strip()\n",
        "\n",
        "# Step 5: Run everything\n",
        "def run_game_ai_agent():\n",
        "    print(\"=== Game AI: Utility-Based Combat Agent ===\\n\")\n",
        "    health, enemy_distance, resources = get_game_state()\n",
        "    utilities = compute_utilities(health, enemy_distance, resources)\n",
        "    best_action = select_best_action(utilities)\n",
        "\n",
        "    use_openai = True\n",
        "    if use_openai:\n",
        "        print(\"\\nExplanation from GPT-4o-mini:\\n\")\n",
        "        explanation = explain_action_with_openai(best_action, health, enemy_distance, resources)\n",
        "        print(explanation)\n",
        "\n",
        "# Start the agent\n",
        "run_game_ai_agent()"
      ]
    }
  ]
}