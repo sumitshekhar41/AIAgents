{
  "nbformat": 4,
  "nbformat_minor": 0,
  "metadata": {
    "colab": {
      "provenance": [],
      "include_colab_link": true
    },
    "kernelspec": {
      "name": "python3",
      "display_name": "Python 3"
    },
    "language_info": {
      "name": "python"
    }
  },
  "cells": [
    {
      "cell_type": "markdown",
      "metadata": {
        "id": "view-in-github",
        "colab_type": "text"
      },
      "source": [
        "<a href=\"https://colab.research.google.com/github/sumitshekhar41/AIAgents/blob/main/Program_17_Basic_Agent_Memory_Store_and_Semantic_Recall.ipynb\" target=\"_parent\"><img src=\"https://colab.research.google.com/assets/colab-badge.svg\" alt=\"Open In Colab\"/></a>"
      ]
    },
    {
      "cell_type": "markdown",
      "source": [
        "#### **Explanation:**\n",
        "* Demonstrates how an agent stores textual memory (interactions, thoughts)\n",
        "* Uses semantic retrieval to recall relevant memory based on user queries\n",
        "* Forms the foundation for agents that can remember and reason over time\n",
        "* Stores every user and agent message\n",
        "* Adds a timestamp and role (user or agent)\n",
        "* Responds using semantic recall (retrieving similar user messages from memory)\n",
        "* Allows user to type show history any time to view entire chat log"
      ],
      "metadata": {
        "id": "j1fVETguUjiA"
      }
    },
    {
      "cell_type": "code",
      "execution_count": null,
      "metadata": {
        "collapsed": true,
        "id": "PVCUyhG_Uitf"
      },
      "outputs": [],
      "source": [
        "# This is required for storing and retrieving agent memory\n",
        "!pip install chromadb --quiet\n",
        "!pip install chromadb sentence-transformers --quiet"
      ]
    },
    {
      "cell_type": "code",
      "source": [
        "import chromadb\n",
        "from chromadb.utils.embedding_functions import SentenceTransformerEmbeddingFunction\n",
        "import uuid\n",
        "from datetime import datetime"
      ],
      "metadata": {
        "id": "u2tuwqupUyJd"
      },
      "execution_count": null,
      "outputs": []
    },
    {
      "cell_type": "code",
      "source": [
        "# Initialize ChromaDB client and collection with embedding\n",
        "client = chromadb.Client()\n",
        "embedding_function = SentenceTransformerEmbeddingFunction(model_name=\"all-MiniLM-L6-v2\")\n",
        "\n",
        "memory = client.get_or_create_collection(\n",
        "    name=\"agent_chat_history\",\n",
        "    embedding_function=embedding_function\n",
        ")"
      ],
      "metadata": {
        "id": "7lELje8ZVJC5"
      },
      "execution_count": null,
      "outputs": []
    },
    {
      "cell_type": "code",
      "source": [
        "# Define helper function to get current timestamp\n",
        "def current_timestamp():\n",
        "    return datetime.now().strftime(\"%Y-%m-%d %H:%M:%S\")"
      ],
      "metadata": {
        "id": "vffJ2fiJX1VL"
      },
      "execution_count": null,
      "outputs": []
    },
    {
      "cell_type": "code",
      "source": [
        "# Start interactive chat loop\n",
        "print(\"Agent is ready. Type your message.\")\n",
        "print(\"Type 'show history' to see the full chat log.\")\n",
        "print(\"Type 'exit' to stop.\\n\")\n",
        "\n",
        "while True:\n",
        "    user_input = input(\"You: \")\n",
        "\n",
        "    if user_input.lower() == \"exit\":\n",
        "        print(\"Agent: Goodbye.\")\n",
        "        break\n",
        "\n",
        "    if user_input.lower() == \"show history\":\n",
        "        # Retrieve all stored memory\n",
        "        results = memory.get(include=[\"metadatas\", \"documents\"])\n",
        "        print(\"\\n--- Chat History ---\")\n",
        "        combined = list(zip(results['metadatas'], results['documents']))\n",
        "        # Sort by timestamp\n",
        "        combined.sort(key=lambda x: x[0]['timestamp'])\n",
        "        for meta, doc in combined:\n",
        "            print(f\"{meta['timestamp']} - {meta['role'].capitalize()}: {doc}\")\n",
        "        print(\"--------------------\\n\")\n",
        "        continue\n",
        "\n",
        "    # Agent queries memory to find relevant context\n",
        "    results = memory.query(query_texts=[user_input], n_results=1)\n",
        "    if results['documents'][0]:\n",
        "        agent_response = f\"Previously you said: {results['documents'][0][0]}\"\n",
        "    else:\n",
        "        agent_response = \"I haven't seen anything like that before.\"\n",
        "\n",
        "    print(\"Agent:\", agent_response)\n",
        "\n",
        "    # Store user message in memory\n",
        "    memory.add(\n",
        "        documents=[user_input],\n",
        "        ids=[str(uuid.uuid4())],\n",
        "        metadatas=[{\"role\": \"user\", \"timestamp\": current_timestamp()}]\n",
        "    )\n",
        "\n",
        "    # Store agent response in memory\n",
        "    memory.add(\n",
        "        documents=[agent_response],\n",
        "        ids=[str(uuid.uuid4())],\n",
        "        metadatas=[{\"role\": \"agent\", \"timestamp\": current_timestamp()}]\n",
        "    )"
      ],
      "metadata": {
        "id": "e7ci5J12X7ma"
      },
      "execution_count": null,
      "outputs": []
    }
  ]
}