{
  "nbformat": 4,
  "nbformat_minor": 0,
  "metadata": {
    "colab": {
      "provenance": [],
      "include_colab_link": true
    },
    "kernelspec": {
      "name": "python3",
      "display_name": "Python 3"
    },
    "language_info": {
      "name": "python"
    }
  },
  "cells": [
    {
      "cell_type": "markdown",
      "metadata": {
        "id": "view-in-github",
        "colab_type": "text"
      },
      "source": [
        "<a href=\"https://colab.research.google.com/github/sumitshekhar41/AIAgents/blob/main/Program_2_Agent_Components_Breakdown_(Simulated_Parts).ipynb\" target=\"_parent\"><img src=\"https://colab.research.google.com/assets/colab-badge.svg\" alt=\"Open In Colab\"/></a>"
      ]
    },
    {
      "cell_type": "markdown",
      "source": [
        "* Understand the **3 key components** of any intelligent agent:\n",
        "** **Perception**: Sensing the environment\n",
        "** **Reasoning**: Deciding what to do\n",
        "** **Action**: Doing it\n",
        "* Implement each part as clearly separate code blocks"
      ],
      "metadata": {
        "id": "zXWVB2vADplh"
      }
    },
    {
      "cell_type": "markdown",
      "source": [
        "#### **Explanation**\n",
        "* **Perception** gets the object from the environment\n",
        "* **Reasoning** selects an action based on what was perceived\n",
        "* **Action** executes the response — all without using functions"
      ],
      "metadata": {
        "id": "U8RgsJxDEIHL"
      }
    },
    {
      "cell_type": "code",
      "execution_count": 1,
      "metadata": {
        "colab": {
          "base_uri": "https://localhost:8080/"
        },
        "id": "zOj5xwvLDjmO",
        "outputId": "ec58d2ec-061e-499e-e2f4-0a69ba9a0f1f"
      },
      "outputs": [
        {
          "output_type": "stream",
          "name": "stdout",
          "text": [
            "Component-Based Agent (Perception → Reasoning → Action)\n",
            "Type 'observe' to activate the agent. Type 'exit' to stop.\n",
            "\n",
            "You: observe\n",
            "Agent: [Perception] Looking at the environment...\n",
            "Agent: [Reasoning] Thinking about what I see...\n",
            "Agent: [Action] Decided to: pick up ball\n",
            "You: observe\n",
            "Agent: [Perception] Looking at the environment...\n",
            "Agent: [Reasoning] Thinking about what I see...\n",
            "Agent: [Action] Decided to: pick up ball\n",
            "You: what\n",
            "Agent: Please type 'observe' or 'exit'.\n",
            "You: exit\n",
            "Agent: Shutting down.\n"
          ]
        }
      ],
      "source": [
        "# Set up a basic simulated environment\n",
        "# Possible objects: 'ball', 'box', 'nothing'\n",
        "environment_object = \"ball\"  # Start with a visible object\n",
        "\n",
        "print(\"Component-Based Agent (Perception → Reasoning → Action)\")\n",
        "print(\"Type 'observe' to activate the agent. Type 'exit' to stop.\\n\")\n",
        "\n",
        "while True:\n",
        "    user_input = input(\"You: \").lower()\n",
        "\n",
        "    if user_input == \"exit\":\n",
        "        print(\"Agent: Shutting down.\")\n",
        "        break\n",
        "\n",
        "    elif user_input == \"observe\":\n",
        "        # --- Perception ---\n",
        "        print(\"Agent: [Perception] Looking at the environment...\")\n",
        "        visible_object = environment_object\n",
        "\n",
        "        # --- Reasoning ---\n",
        "        print(\"Agent: [Reasoning] Thinking about what I see...\")\n",
        "        if visible_object == \"ball\":\n",
        "            decision = \"pick up ball\"\n",
        "        elif visible_object == \"box\":\n",
        "            decision = \"open box\"\n",
        "        else:\n",
        "            decision = \"do nothing\"\n",
        "\n",
        "        # --- Action ---\n",
        "        print(\"Agent: [Action] Decided to:\", decision)\n",
        "\n",
        "    else:\n",
        "        print(\"Agent: Please type 'observe' or 'exit'.\")"
      ]
    }
  ]
}