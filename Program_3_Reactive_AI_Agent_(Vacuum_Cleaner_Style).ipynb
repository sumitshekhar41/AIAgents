{
  "nbformat": 4,
  "nbformat_minor": 0,
  "metadata": {
    "colab": {
      "provenance": [],
      "include_colab_link": true
    },
    "kernelspec": {
      "name": "python3",
      "display_name": "Python 3"
    },
    "language_info": {
      "name": "python"
    }
  },
  "cells": [
    {
      "cell_type": "markdown",
      "metadata": {
        "id": "view-in-github",
        "colab_type": "text"
      },
      "source": [
        "<a href=\"https://colab.research.google.com/github/sumitshekhar41/AIAgents/blob/main/Program_3_Reactive_AI_Agent_(Vacuum_Cleaner_Style).ipynb\" target=\"_parent\"><img src=\"https://colab.research.google.com/assets/colab-badge.svg\" alt=\"Open In Colab\"/></a>"
      ]
    },
    {
      "cell_type": "markdown",
      "source": [
        "* Understand what a reactive agent is: no memory or goals, only reacts to state\n",
        "* Show behavior in a simple environment (clean/dirty room)"
      ],
      "metadata": {
        "id": "mFPk0ML0GRjG"
      }
    },
    {
      "cell_type": "markdown",
      "source": [
        "This agent is placed in a simple environment: a room that may be either dirty or clean.\n",
        "\n",
        "* The user types sense to make the agent inspect the environment.\n",
        "* The agent reacts immediately:\n",
        " * If it finds the room is dirty, it cleans it.\n",
        " * If it finds the room is clean, it does nothing."
      ],
      "metadata": {
        "id": "0yS3pgp5Gp2p"
      }
    },
    {
      "cell_type": "code",
      "execution_count": null,
      "metadata": {
        "colab": {
          "base_uri": "https://localhost:8080/"
        },
        "id": "y2SliYmQGFyg",
        "outputId": "69047a02-69a2-4d96-ac22-f5d32f7f92d2"
      },
      "outputs": [
        {
          "output_type": "stream",
          "name": "stdout",
          "text": [
            "Reactive Cleaning Agent\n",
            "Type 'sense' to observe the room. Type 'exit' to quit.\n",
            "\n",
            "You: observe\n",
            "Agent: Invalid input. Try 'sense' or 'exit'.\n",
            "You: sense\n",
            "Agent: Observing environment...\n",
            "Agent: Room is dirty. Cleaning now...\n",
            "Agent: Room cleaned.\n",
            "You: sense\n",
            "Agent: Observing environment...\n",
            "Agent: Room is already clean. No action needed.\n",
            "You: dirty\n",
            "Agent: Invalid input. Try 'sense' or 'exit'.\n",
            "You: clean\n",
            "Agent: Invalid input. Try 'sense' or 'exit'.\n",
            "You: sense\n",
            "Agent: Observing environment...\n",
            "Agent: Room is already clean. No action needed.\n"
          ]
        }
      ],
      "source": [
        "# Initial environment: room is dirty\n",
        "room_status = \"dirty\"\n",
        "\n",
        "print(\"Reactive Cleaning Agent\")\n",
        "print(\"Type 'sense' to observe the room. Type 'exit' to quit.\\n\")\n",
        "\n",
        "while True:\n",
        "    user_input = input(\"You: \").lower()\n",
        "\n",
        "    if user_input == \"exit\":\n",
        "        print(\"Agent: Session ended. Bye!\")\n",
        "        break\n",
        "\n",
        "    elif user_input == \"sense\":\n",
        "        # Sensing the room condition\n",
        "        print(\"Agent: Observing environment...\")\n",
        "\n",
        "        if room_status == \"dirty\":\n",
        "            print(\"Agent: Room is dirty. Cleaning now...\")\n",
        "            room_status = \"clean\"\n",
        "            print(\"Agent: Room cleaned.\")\n",
        "        elif room_status == \"clean\":\n",
        "            print(\"Agent: Room is already clean. No action needed.\")\n",
        "        else:\n",
        "            print(\"Agent: Unknown room state.\")\n",
        "\n",
        "    else:\n",
        "        print(\"Agent: Invalid input. Try 'sense' or 'exit'.\")\n"
      ]
    }
  ]
}