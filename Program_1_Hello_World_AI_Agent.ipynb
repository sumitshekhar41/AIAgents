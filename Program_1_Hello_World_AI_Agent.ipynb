{
  "nbformat": 4,
  "nbformat_minor": 0,
  "metadata": {
    "colab": {
      "provenance": [],
      "include_colab_link": true
    },
    "kernelspec": {
      "name": "python3",
      "display_name": "Python 3"
    },
    "language_info": {
      "name": "python"
    }
  },
  "cells": [
    {
      "cell_type": "markdown",
      "metadata": {
        "id": "view-in-github",
        "colab_type": "text"
      },
      "source": [
        "<a href=\"https://colab.research.google.com/github/sumitshekhar41/AIAgents/blob/main/Program_1_Hello_World_AI_Agent.ipynb\" target=\"_parent\"><img src=\"https://colab.research.google.com/assets/colab-badge.svg\" alt=\"Open In Colab\"/></a>"
      ]
    },
    {
      "cell_type": "markdown",
      "source": [
        "* Understand basic agent behavior using plain if-else logic\n",
        "* Introduce AI agents without using functions\n",
        "\n"
      ],
      "metadata": {
        "id": "fIv5DgxWCSHn"
      }
    },
    {
      "cell_type": "markdown",
      "source": [
        "#### **Key Concept**\n",
        "* Agents take input and return output\n",
        "* Use of if-else rules for decision-making"
      ],
      "metadata": {
        "id": "uIdYVHm0DHzt"
      }
    },
    {
      "cell_type": "code",
      "execution_count": 1,
      "metadata": {
        "colab": {
          "base_uri": "https://localhost:8080/"
        },
        "id": "DhfNDqxtCGEs",
        "outputId": "0bd7894d-071b-411c-a364-c84e90c79d51"
      },
      "outputs": [
        {
          "output_type": "stream",
          "name": "stdout",
          "text": [
            "Hello World Agent: Type 'hello', 'who are you', or 'bye'. Type 'exit' to quit.\n",
            "You: hello\n",
            "Agent: Hello there! I'm your first AI agent.\n",
            "You: how are you\n",
            "Agent: I'm still learning. Try saying 'hello' or 'who are you'.\n",
            "You: who are you\n",
            "Agent: I'm a simple rule-based AI agent.\n",
            "You: bye\n",
            "Agent: Goodbye! See you later.\n",
            "You: exit\n",
            "Agent: Session ended.\n"
          ]
        }
      ],
      "source": [
        "# Program 1: Hello World AI Agent (no functions)\n",
        "\n",
        "print(\"Hello World Agent: Type 'hello', 'who are you', or 'bye'. Type 'exit' to quit.\")\n",
        "\n",
        "while True:\n",
        "    user_input = input(\"You: \").lower()\n",
        "\n",
        "    if user_input == \"exit\":\n",
        "        print(\"Agent: Session ended.\")\n",
        "        break\n",
        "    elif user_input == \"hello\":\n",
        "        print(\"Agent: Hello there! I'm your first AI agent.\")\n",
        "    elif user_input == \"who are you\":\n",
        "        print(\"Agent: I'm a simple rule-based AI agent.\")\n",
        "    elif user_input == \"bye\":\n",
        "        print(\"Agent: Goodbye! See you later.\")\n",
        "    else:\n",
        "        print(\"Agent: I'm still learning. Try saying 'hello' or 'who are you'.\")"
      ]
    }
  ]
}