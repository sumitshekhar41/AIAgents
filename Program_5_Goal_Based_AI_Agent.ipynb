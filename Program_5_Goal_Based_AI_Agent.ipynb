{
  "nbformat": 4,
  "nbformat_minor": 0,
  "metadata": {
    "colab": {
      "provenance": [],
      "include_colab_link": true
    },
    "kernelspec": {
      "name": "python3",
      "display_name": "Python 3"
    },
    "language_info": {
      "name": "python"
    }
  },
  "cells": [
    {
      "cell_type": "markdown",
      "metadata": {
        "id": "view-in-github",
        "colab_type": "text"
      },
      "source": [
        "<a href=\"https://colab.research.google.com/github/sumitshekhar41/AIAgents/blob/main/Program_5_Goal_Based_AI_Agent.ipynb\" target=\"_parent\"><img src=\"https://colab.research.google.com/assets/colab-badge.svg\" alt=\"Open In Colab\"/></a>"
      ]
    },
    {
      "cell_type": "markdown",
      "source": [
        "### **Explanation:**\n",
        "* Introduces **goal recognition**\n",
        "* Agent suggests actions that help achieve that goal\n",
        "* This logic simulates **basic intention understanding**"
      ],
      "metadata": {
        "id": "so-2DXMOJS9m"
      }
    },
    {
      "cell_type": "code",
      "execution_count": null,
      "metadata": {
        "id": "Kb-YYN1LJQr-"
      },
      "outputs": [],
      "source": [
        "# Define possible goals and actions to reach them\n",
        "goals_actions = {\n",
        "    \"get fit\": \"You should try regular exercise and a healthy diet.\",\n",
        "    \"learn python\": \"Start with basics like variables, loops, and functions.\",\n",
        "    \"save money\": \"Track your expenses and make a monthly budget.\",\n",
        "    \"improve sleep\": \"Avoid screens before bed and maintain a routine.\"\n",
        "}\n",
        "\n",
        "# Agent function to interpret user’s goal\n",
        "def goal_based_agent(user_input):\n",
        "    user_input = user_input.lower()\n",
        "\n",
        "    for goal, advice in goals_actions.items():\n",
        "        if goal in user_input:\n",
        "            return f\"Goal recognized: '{goal}'. Suggestion: {advice}\"\n",
        "\n",
        "    return \"Sorry, I couldn't match your goal. Try saying 'I want to get fit' or 'I want to learn Python'.\"\n",
        "\n",
        "# Run the agent loop\n",
        "print(\"Goal-Based Agent: Tell me your goal. Example: 'I want to get fit'. Type 'exit' to stop.\")\n",
        "\n",
        "while True:\n",
        "    user_input = input(\"You: \")\n",
        "    if user_input.lower() == \"exit\":\n",
        "        print(\"Agent: Goodbye! Keep working on your goals.\")\n",
        "        break\n",
        "    print(\"Agent:\", goal_based_agent(user_input))"
      ]
    }
  ]
}