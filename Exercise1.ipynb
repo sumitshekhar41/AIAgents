{
  "nbformat": 4,
  "nbformat_minor": 0,
  "metadata": {
    "colab": {
      "provenance": [],
      "authorship_tag": "ABX9TyPLqZxcwzhARjf/i7gjcZDl",
      "include_colab_link": true
    },
    "kernelspec": {
      "name": "python3",
      "display_name": "Python 3"
    },
    "language_info": {
      "name": "python"
    }
  },
  "cells": [
    {
      "cell_type": "markdown",
      "metadata": {
        "id": "view-in-github",
        "colab_type": "text"
      },
      "source": [
        "<a href=\"https://colab.research.google.com/github/sumitshekhar41/AIAgents/blob/main/Exercise1.ipynb\" target=\"_parent\"><img src=\"https://colab.research.google.com/assets/colab-badge.svg\" alt=\"Open In Colab\"/></a>"
      ]
    },
    {
      "cell_type": "markdown",
      "source": [
        "Exercise 1 : Write a Python program that simulates a basic AI agent that can handle household tasks one by one, based on a list of conditions and goals. The agent should begin with a list of simple tasks, such as \"wash dishes\", \"vacuum floor\", \"do laundry\", and \"take out trash\". Each task has a status of either \"pending\" or \"done\". The agent should:\n",
        "1. Read through the list of tasks.\n",
        "2. Decide which task is still pending.\n",
        "3. Choose the next appropriate task based on a goal: for example, “finish all tasks.”\n",
        "4. Mark each task as \"done\" as it completes it.\n",
        "5. Stop when all tasks are complete and print \"All tasks completed!\"."
      ],
      "metadata": {
        "id": "rkKxtYZdWJHE"
      }
    },
    {
      "cell_type": "code",
      "execution_count": 12,
      "metadata": {
        "colab": {
          "base_uri": "https://localhost:8080/"
        },
        "id": "YxCnZ6_NWBtb",
        "outputId": "12aac4b8-a20c-434a-9c54-aaa1eb748677"
      },
      "outputs": [
        {
          "output_type": "stream",
          "name": "stdout",
          "text": [
            "AI Agent starting task execution...\n",
            "\n",
            "\n",
            "Next task: wash dishes\n",
            "Performing task: wash dishes\n",
            "Task completed!\n",
            "\n",
            "\n",
            "Next task: vacuum floor\n",
            "Performing task: vacuum floor\n",
            "Task completed!\n",
            "\n",
            "\n",
            "Next task: take out trash\n",
            "Performing task: take out trash\n",
            "Task completed!\n",
            "\n",
            "\n",
            "All tasks completed!\n"
          ]
        }
      ],
      "source": [
        "# Define the list of tasks\n",
        "task_list = {\"wash dishes\":\"pending\",\n",
        "             \"vacuum floor\":\"pending\",\n",
        "             \"do laundry\":\"done\",\n",
        "             \"take out trash\":\"pending\"}\n",
        "\n",
        "def get_pending_tasks():\n",
        "  return [task for task, status in task_list.items() if status == \"pending\"]\n",
        "\n",
        "def perform_task(task):\n",
        "  print(f\"Performing task: {task}\")\n",
        "  task_list[task] = \"done\"\n",
        "  print(\"Task completed!\\n\")\n",
        "\n",
        "def run():\n",
        "  print(\"AI Agent starting task execution...\\n\")\n",
        "  while True:\n",
        "   pending_tasks = get_pending_tasks()\n",
        "   if not pending_tasks:\n",
        "    print(\"\\nAll tasks completed!\")\n",
        "    break\n",
        "\n",
        "   next_task = pending_tasks[0] if pending_tasks else None\n",
        "   if next_task:\n",
        "    print(f\"\\nNext task: {next_task}\")\n",
        "   perform_task(next_task)\n",
        "\n",
        "\n",
        "run()"
      ]
    }
  ]
}